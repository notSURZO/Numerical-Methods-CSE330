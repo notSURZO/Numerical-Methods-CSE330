{
  "nbformat": 4,
  "nbformat_minor": 0,
  "metadata": {
    "colab": {
      "provenance": []
    },
    "kernelspec": {
      "name": "python3",
      "display_name": "Python 3"
    },
    "language_info": {
      "name": "python"
    }
  },
  "cells": [
    {
      "cell_type": "markdown",
      "source": [
        "## **CSE330 Section 03 Special Assignment Summer 2024** (Total Marks : 10)"
      ],
      "metadata": {
        "id": "8k58gExP8G-P"
      }
    },
    {
      "cell_type": "code",
      "source": [
        "Name = \"\"\n",
        "ID = \"\"\n",
        "Section = \"\""
      ],
      "metadata": {
        "id": "Ud_54Jkr8Ptf"
      },
      "execution_count": null,
      "outputs": []
    },
    {
      "cell_type": "markdown",
      "source": [
        "# Question 01 [1 + 2 + 1.5 + 1.5 Marks]"
      ],
      "metadata": {
        "id": "YJoWO7EPZvu-"
      }
    },
    {
      "cell_type": "markdown",
      "source": [
        "Consider the following function:\n",
        "$$ f(x) = x^3 - 6x^2 + 11x -6 $$\n",
        "\n"
      ],
      "metadata": {
        "id": "8jjDtHfSZ0UN"
      }
    },
    {
      "cell_type": "markdown",
      "source": [
        "1(i) Print and plot the Actual roots, `x*`, of the given function. Round the roots to 4 decimal places."
      ],
      "metadata": {
        "id": "QuZL91WLValv"
      }
    },
    {
      "cell_type": "code",
      "source": [],
      "metadata": {
        "id": "R5GCGKEdVa8A"
      },
      "execution_count": null,
      "outputs": []
    },
    {
      "cell_type": "markdown",
      "source": [
        "**1(ii)** The following $g_{1}(x)$ is given which is derived from the above $f(x)$\\\n",
        "$$g_{1}(x) = \\frac{-x^3 +6x^2 + 6}{11}$$\\\n",
        "Use Contraction Mapping Theorem and calculate the value of λ for all the actual roots. Print whether the $g_{1}(x)$ is converging or diverging.\n",
        "\n",
        "\n",
        "\n"
      ],
      "metadata": {
        "id": "V-krz9evhwC2"
      }
    },
    {
      "cell_type": "code",
      "source": [],
      "metadata": {
        "id": "ZlcP_fHOZzgd"
      },
      "execution_count": null,
      "outputs": []
    },
    {
      "cell_type": "markdown",
      "source": [
        "**1(iii)** Derive 3 more separate $g_{2}(x)$, $g_{3}(x)$ and $g_{4}(x)$ from the given $f(x)$. Represent those in the code."
      ],
      "metadata": {
        "id": "2vJPbMxTdkYQ"
      }
    },
    {
      "cell_type": "code",
      "source": [],
      "metadata": {
        "id": "EX22XV1ce8F_"
      },
      "execution_count": null,
      "outputs": []
    },
    {
      "cell_type": "markdown",
      "source": [
        "**1(iv)** Find the approximate root, `x*`, of the above function using Fixed Point Iterations where $x_{0}$ = 1.1 and any of the converging `g(x)` that you have constructed in 1(iii). Show 20 iterations."
      ],
      "metadata": {
        "id": "8clO5Vpbf80f"
      }
    },
    {
      "cell_type": "code",
      "source": [],
      "metadata": {
        "id": "bluhhukcjAr9"
      },
      "execution_count": null,
      "outputs": []
    },
    {
      "cell_type": "markdown",
      "source": [
        "#Question 02 [4 Marks]"
      ],
      "metadata": {
        "id": "FM-r0yyqSlet"
      }
    },
    {
      "cell_type": "markdown",
      "source": [
        "Consider the following function:\n",
        "$$ f(x) = 5x^6-x^5+7x^4+3.75x^3-2x^2+1.5x+15 $$\n",
        "Now, compute the Second Degree Richarson Extrapolation, `D^{2}` at `x = 1` and `h = 0.3` when the formula is derived using `h -> h/4`. Print the answer upto 2 decimal places.\n",
        "\n",
        "**N.B.** You can use the previously learned methods while solving the problem."
      ],
      "metadata": {
        "id": "jmv1FlurSglN"
      }
    },
    {
      "cell_type": "code",
      "source": [],
      "metadata": {
        "id": "se83vRIPkQ1N"
      },
      "execution_count": null,
      "outputs": []
    }
  ]
}